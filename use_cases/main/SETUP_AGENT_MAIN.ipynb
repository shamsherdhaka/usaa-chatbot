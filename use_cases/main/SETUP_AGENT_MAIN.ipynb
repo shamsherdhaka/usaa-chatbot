{
 "metadata": {
  "kernelspec": {
   "display_name": "Streamlit Notebook",
   "name": "streamlit"
  },
  "lastEditStatus": {
   "notebookId": "di72d7qj2aha2cjmtxju",
   "authorId": "4936072474221",
   "authorName": "ADMIN",
   "authorEmail": "michael.gorkow@snowflake.com",
   "sessionId": "2ca27905-d509-480f-b3c9-08671a21cb66",
   "lastEditTime": 1743069983705
  }
 },
 "nbformat_minor": 5,
 "nbformat": 4,
 "cells": [
  {
   "cell_type": "code",
   "execution_count": null,
   "id": "3775908f-ca36-4846-8f38-5adca39217f2",
   "metadata": {
    "collapsed": false,
    "language": "python",
    "name": "IMPORTS"
   },
   "outputs": [],
   "source": "import warnings\nwarnings.filterwarnings(\"ignore\")\nimport streamlit as st\nimport pandas as pd\nfrom snowflake.snowpark.context import get_active_session\nfrom snowflake.snowpark.functions import col\nfrom snowflake.snowpark import types as T\nfrom snowflake.core import Root\nfrom snowflake.cortex import Complete\nsession = get_active_session()\nroot = Root(get_active_session())"
  },
  {
   "cell_type": "markdown",
   "id": "a66bee02-de2d-4c96-92dc-2a683e8be305",
   "metadata": {
    "collapsed": false,
    "name": "OVERVIEW"
   },
   "source": [
    "# Cortex Agents\n",
    "In this notebook you will setup multiple Cortex Search and Cortex Analyst Services which will be used by Cortex Agents to answer user queries on unstructured and structured data.\n",
    "![text](https://github.com/michaelgorkow/snowflake_cortex_agents_demo/blob/main/resources/cortex_agents_notebook_small.png?raw=true)"
   ]
  },
  {
   "cell_type": "markdown",
   "id": "a2cda5f3-3dc6-4609-bf2d-12d114adb9af",
   "metadata": {
    "collapsed": false,
    "name": "CORTEX_SEARCH1"
   },
   "source": [
    "# Setup the Cortex Search Service [Unstructured Data]\n",
    "\n",
    "We have some PDF documents in our stage **DOCUMENTS** that we want business users to be able to ask questions about.  \n",
    "To achieve this, we need to extract the contents of the PDF files and make them searchable.\n",
    "\n",
    "## Extracting Content from PDF Files\n",
    "\n",
    "### [`PARSE_DOCUMENT`](https://docs.snowflake.com/en/sql-reference/functions/parse_document-snowflake-cortex)  \n",
    "This function returns the extracted content from a document on a Snowflake stage as an **OBJECT** that contains JSON-encoded objects as strings.  \n",
    "\n",
    "It supports two types of extractions:  \n",
    "- **Optical Character Recognition (OCR)**  \n",
    "- **Layout Extraction**  \n",
    "\n",
    "### [`SPLIT_TEXT_RECURSIVE_CHARACTER`](https://docs.snowflake.com/en/sql-reference/functions/split_text_recursive_character-snowflake-cortex)  \n",
    "The `SPLIT_TEXT_RECURSIVE_CHARACTER` function splits a string into shorter strings recursively. It is useful for preprocessing text to be used with text embedding or search indexing functions."
   ]
  },
  {
   "cell_type": "code",
   "execution_count": null,
   "id": "dc3cb35b-78ee-4091-97c2-0b05443d8e52",
   "metadata": {
    "collapsed": false,
    "language": "sql",
    "name": "CORTEX_SEARCH2"
   },
   "outputs": [],
   "source": [
    "-- List documents in stage\n",
    "SELECT * FROM DIRECTORY('@DOCUMENTS');"
   ]
  },
  {
   "cell_type": "code",
   "execution_count": null,
   "id": "fe0d2d82-16f6-4552-bc50-d56f91ce30d3",
   "metadata": {
    "collapsed": false,
    "language": "sql",
    "name": "CORTEX_SEARCH3"
   },
   "outputs": [],
   "source": "-- Layout extraction for PDF documents\nCREATE TABLE IF NOT EXISTS RAW_TEXT AS\nSELECT \n    RELATIVE_PATH,\n    TO_VARCHAR (\n        SNOWFLAKE.CORTEX.PARSE_DOCUMENT (\n            '@DOCUMENTS',\n            RELATIVE_PATH,\n            {'mode': 'LAYOUT'} ):content\n        ) AS EXTRACTED_LAYOUT \nFROM \n    DIRECTORY('@DOCUMENTS');\n\nSELECT * FROM RAW_TEXT;"
  },
  {
   "cell_type": "code",
   "execution_count": null,
   "id": "37ec3abd-9a67-4d63-a7cb-d22196990390",
   "metadata": {
    "collapsed": false,
    "language": "sql",
    "name": "CORTEX_SEARCH4"
   },
   "outputs": [],
   "source": "-- Create chunks from extracted content\nCREATE TABLE IF NOT EXISTS CHUNKED_TEXT AS\nSELECT\n   RELATIVE_PATH,\n   c.INDEX::INTEGER AS CHUNK_INDEX,\n   c.value::TEXT AS CHUNK_TEXT\nFROM\n   RAW_TEXT,\n   LATERAL FLATTEN( input => SNOWFLAKE.CORTEX.SPLIT_TEXT_RECURSIVE_CHARACTER (\n      EXTRACTED_LAYOUT,\n      'markdown',\n      4000,\n      0,\n      ['\\n\\n', '\\n', ' ', '']\n   )) c;\n\nSELECT * FROM CHUNKED_TEXT;"
  },
  {
   "cell_type": "code",
   "execution_count": null,
   "id": "8c651cd6-a275-4a07-9b85-52a1554937fa",
   "metadata": {
    "language": "sql",
    "name": "CORTEX_SEARCH5"
   },
   "outputs": [],
   "source": "-- Create a Cortex Search Service for Annual Reports\nCREATE CORTEX SEARCH SERVICE IF NOT EXISTS ANNUAL_REPORTS_SEARCH\n  ON CHUNK_TEXT\n  ATTRIBUTES RELATIVE_PATH, CHUNK_INDEX\n  WAREHOUSE = COMPUTE_WH\n  TARGET_LAG = '1 hour'\n  EMBEDDING_MODEL = 'snowflake-arctic-embed-l-v2.0'\nAS (\n  SELECT\n      CHUNK_TEXT,\n      RELATIVE_PATH,\n      CHUNK_INDEX\n  FROM CHUNKED_TEXT\n  WHERE startswith(RELATIVE_PATH,'ANNUAL_REPORT')\n);"
  },
  {
   "cell_type": "markdown",
   "id": "32f8ca07-db9b-4cf5-b2a5-e5a3e030aaf0",
   "metadata": {
    "collapsed": false,
    "name": "CORTEX_SEARCH7"
   },
   "source": [
    "### [Optional] Test Your Service in a Simple RAG Pipeline  \n",
    "\n",
    "In this small example, we **combine Cortex Search with Cortex LLMs** to generate a response from context—also known as **Retrieval-Augmented Generation (RAG)**.  \n",
    "This approach enhances responses by retrieving relevant data before generating an answer, improving accuracy and contextual relevance. 🚀  "
   ]
  },
  {
   "cell_type": "code",
   "execution_count": null,
   "id": "d3e07ffc-0874-422b-a439-dacdaab98585",
   "metadata": {
    "collapsed": false,
    "language": "python",
    "name": "CORTEX_SEARCH8"
   },
   "outputs": [],
   "source": "question = 'What was the Cloud Revenue for Googol in 2024?'\n\n# Fetch service\nmy_service = (root\n  .databases[\"CORTEX_AGENTS_DEMO\"]\n  .schemas[\"MAIN\"]\n  .cortex_search_services[\"ANNUAL_REPORTS_SEARCH\"]\n)\n\n# Query service\nresp = my_service.search(\n  query=question,\n  columns=[\"CHUNK_INDEX\", \"CHUNK_TEXT\", \"RELATIVE_PATH\"],\n  limit=1\n)\nresp = resp.results[0]\n\nst.info(f'**File:** {resp[\"RELATIVE_PATH\"]}\\n\\n {resp[\"CHUNK_TEXT\"]}')\n\n# Generate Response\nmodel = 'mistral-large2'\nprompt = f\"{question} Answer based on the provided context: {resp['CHUNK_TEXT']}\"\nresponse = Complete(model, prompt).strip()\n\nst.info(f'**LLM Response:**\\n\\n**{response}**')"
  },
  {
   "cell_type": "markdown",
   "id": "00717c52-d652-48c9-be0b-1aaf5d0e2748",
   "metadata": {
    "collapsed": false,
    "name": "CORTEX_ANALYST1"
   },
   "source": [
    "# Setup the Cortex Analyst Service [Structured Data]  \n",
    "\n",
    "We generate some **random sales orders** that users will be able to **query in natural language**.  \n",
    "\n",
    "## Dataset Overview  \n",
    "\n",
    "The dataset consists of **three tables**:  \n",
    "\n",
    "- **`CUSTOMER_ORDERS`**  \n",
    "  - Stores **customers** and their **orders**  \n",
    "\n",
    "- **`ORDERS`**  \n",
    "  - Stores **order details**, including:  \n",
    "    - `PRODUCT`  \n",
    "    - `QUANTITY`  \n",
    "    - `COUNTRY`  \n",
    "    - `STATUS`  \n",
    "\n",
    "- **`PRODUCTS`**  \n",
    "  - Stores **product details**, such as:  \n",
    "    - `PRICE`  \n",
    "\n",
    "This structured dataset will allow **Cortex Analyst** to process user queries efficiently and return meaningful results. 🚀  \n"
   ]
  },
  {
   "cell_type": "code",
   "execution_count": null,
   "id": "4fe00257-3750-4e13-8ee4-a1549860b6ad",
   "metadata": {
    "collapsed": false,
    "language": "python",
    "name": "CORTEX_ANALYST2"
   },
   "outputs": [],
   "source": "from snowflake.snowpark import functions as F\nimport pandas as pd\nimport random\nfrom datetime import datetime, timedelta\n\n# Define parameters\nnum_orders = 10000  # Number of orders to generate\n\n# Sample data\ncustomers = [\"Alpha Corp\", \"Beta Ltd\", \"Gamma Inc\", \"Delta LLC\", \"Epsilon SA\"]\nproducts = [\"Steel Rods\", \"Copper Wires\", \"Aluminum Sheets\", \"Brass Fittings\", \"Iron Pipes\"]\ncountries = [\"Germany\", \"USA\", \"UK\", \"France\", \"Italy\"]\nstatuses = [\"Pending\", \"Shipped\", \"Delivered\", \"Cancelled\"]\n\n# Generate random sales orders\norders = []\nstart_date = datetime(2024, 1, 1)\n\nfor i in range(num_orders):\n    order_id = f\"ORD{1000 + i}\"\n    customer = random.choice(customers)\n    product = random.choice(products)\n    quantity = random.randint(10, 500)\n    unit_price = round(random.uniform(5.0, 50.0), 2)\n    total_price = round(quantity * unit_price, 2)\n    order_date = start_date + timedelta(days=random.randint(0, 365))\n    country = random.choice(countries)\n    status = random.choice(statuses)\n    \n    orders.append([order_id, customer, product, quantity, unit_price, total_price, order_date, country, status])\n\n# Create DataFrame\ndf_orders = pd.DataFrame(orders, columns=[\n    \"ORDER_ID\", \"CUSTOMER\", \"PRODUCT\", \"QUANTITY\", \"UNIT_PRICE\", \"TOTAL_PRICE\", \"ORDER_DATE\", \"COUNTRY\", \"STATUS\"\n])\n\ncustomer_orders = session.write_pandas(df_orders[['CUSTOMER','ORDER_ID']].drop_duplicates(), table_name='CUSTOMER_ORDERS', overwrite=True)\norders = session.create_dataframe(df_orders[['ORDER_ID','ORDER_DATE','PRODUCT','QUANTITY','COUNTRY','STATUS']].drop_duplicates())\norders = orders.with_column(\"ORDER_DATE\", col(\"ORDER_DATE\").cast(T.DateType()))\norders.write.mode(\"overwrite\").save_as_table('ORDERS', mode='overwrite')\nproducts = df_orders[['PRODUCT','UNIT_PRICE']].groupby('PRODUCT').max().reset_index()\nproducts = session.write_pandas(products, table_name='PRODUCTS', overwrite=True)"
  },
  {
   "cell_type": "code",
   "id": "c87b3dba-e2df-44e2-a508-df47e74dfeed",
   "metadata": {
    "language": "python",
    "name": "CORTEX_ANALYST3"
   },
   "outputs": [],
   "source": "print('Customer Orders:')\nsession.table('CUSTOMER_ORDERS').show(n=5)\n\nprint('Orders:')\nsession.table('CUSTOMER_ORDERS').show(n=5)\n\nprint('Products:')\nsession.table('PRODUCTS').show(n=5)",
   "execution_count": null
  },
  {
   "cell_type": "markdown",
   "id": "352d9b4d-9c34-4e91-9cc6-caa60b231b2f",
   "metadata": {
    "collapsed": false,
    "name": "CORTEX_ANALYST4"
   },
   "source": [
    "# Dynamic Literal Retrieval with Cortex Analyst\n",
    "\n",
    "Business users may not have detailed knowledge of how data is stored in Snowflake.  \n",
    "Instead of ingesting all possible values of a column into **Cortex Analyst**, we will use **dynamic literal retrieval** via the [Cortex Search Integration](https://docs.snowflake.com/en/user-guide/snowflake-cortex/cortex-analyst/cortex-analyst-search-integration).\n",
    "\n",
    "## How It Works  \n",
    "When a user asks a question about their **sales orders** that requires the `CUSTOMER`, `PRODUCT`, `COUNTRY` column, **Cortex Analyst** will:  \n",
    "1. Retrieve the relevant literal dynamically from **Cortex Search**  \n",
    "2. Use it for **SQL generation**  \n",
    "\n",
    "This approach ensures efficient and accurate query generation without preloading all possible values into Cortex Analyst.  \n"
   ]
  },
  {
   "cell_type": "code",
   "execution_count": null,
   "id": "837aa585-3963-4767-9f6e-df919c4faf6a",
   "metadata": {
    "collapsed": false,
    "language": "sql",
    "name": "CORTEX_ANALYST5"
   },
   "outputs": [],
   "source": "CREATE CORTEX SEARCH SERVICE IF NOT EXISTS _ANALYST_PRODUCT_SEARCH\n  ON PRODUCT\n  WAREHOUSE = COMPUTE_WH\n  TARGET_LAG = '1 hour'\n  EMBEDDING_MODEL = 'snowflake-arctic-embed-l-v2.0'\nAS (\n  SELECT\n      DISTINCT PRODUCT\n  FROM PRODUCTS\n);"
  },
  {
   "cell_type": "code",
   "execution_count": null,
   "id": "251cec9e-4070-4fcc-af17-11747b58b0c7",
   "metadata": {
    "collapsed": false,
    "language": "sql",
    "name": "CORTEX_ANALYST6"
   },
   "outputs": [],
   "source": "CREATE CORTEX SEARCH SERVICE IF NOT EXISTS _ANALYST_COUNTRY_SEARCH\n  ON COUNTRY\n  WAREHOUSE = COMPUTE_WH\n  TARGET_LAG = '1 hour'\n  EMBEDDING_MODEL = 'snowflake-arctic-embed-l-v2.0'\nAS (\n  SELECT\n      DISTINCT COUNTRY,\n  FROM ORDERS\n);"
  },
  {
   "cell_type": "code",
   "execution_count": null,
   "id": "d822ae0c-101f-4f36-9252-b7e13134b3f1",
   "metadata": {
    "collapsed": false,
    "language": "sql",
    "name": "CORTEX_ANALYST7"
   },
   "outputs": [],
   "source": "CREATE CORTEX SEARCH SERVICE IF NOT EXISTS _ANALYST_CUSTOMER_SEARCH\n  ON CUSTOMER\n  WAREHOUSE = COMPUTE_WH\n  TARGET_LAG = '1 hour'\n  EMBEDDING_MODEL = 'snowflake-arctic-embed-l-v2.0'\nAS (\n  SELECT\n      DISTINCT CUSTOMER,\n  FROM CUSTOMER_ORDERS\n);"
  },
  {
   "cell_type": "markdown",
   "id": "c1bf508c-613d-41db-a87d-d4212ce69836",
   "metadata": {
    "name": "CORTEX_ANALYST8",
    "collapsed": false
   },
   "source": "### [Optional] Test Literal Retrievals"
  },
  {
   "cell_type": "code",
   "id": "f8ff86b7-a46e-4faf-b6e6-7ed32a2b9a5b",
   "metadata": {
    "language": "python",
    "name": "CORTEX_ANALYST9"
   },
   "outputs": [],
   "source": "question = 'What was the total order quantity per month for United Kingdom with status shipped?'\n\n# Fetch service\nmy_service = (root\n  .databases[\"CORTEX_AGENTS_DEMO\"]\n  .schemas[\"MAIN\"]\n  .cortex_search_services[\"_ANALYST_COUNTRY_SEARCH\"]\n)\n\n# Query service\nresp = my_service.search(\n  query=question,\n  columns=[\"COUNTRY\"],\n  limit=1\n)\nresp = resp.results[0]\n\nst.info(f'**Search Results: {resp[\"COUNTRY\"]}**')",
   "execution_count": null
  },
  {
   "cell_type": "code",
   "id": "2d536d7d-2d40-43e3-b0ce-b6e71d21fdd3",
   "metadata": {
    "language": "python",
    "name": "CORTEX_ANALYST10"
   },
   "outputs": [],
   "source": "question = 'What was the order revenue per month for steel for my customer Delta?'\n\n# Fetch service\nmy_service = (root\n  .databases[\"CORTEX_AGENTS_DEMO\"]\n  .schemas[\"MAIN\"]\n  .cortex_search_services[\"_ANALYST_PRODUCT_SEARCH\"]\n)\n\n# Query service\nresp = my_service.search(\n  query=question,\n  columns=[\"PRODUCT\"],\n  limit=2\n)\n\nfor r in resp.results:\n    st.info(r['PRODUCT'])",
   "execution_count": null
  },
  {
   "cell_type": "markdown",
   "id": "6eb814df-fa76-45af-bfaf-add22a17c61f",
   "metadata": {
    "collapsed": false,
    "name": "CORTEX_ANALYST11"
   },
   "source": [
    "# Explore the Semantic Model in the Snowflake UI  \n",
    "\n",
    "With our data available in **Snowflake** and the **Search Services** set up, it's time to explore the **native Semantic Model Generator** in **Snowsight**.  \n",
    "![text](https://github.com/michaelgorkow/snowflake_cortex_agents_demo/blob/main/resources/semantic_model_ui.png?raw=true)\n",
    "\n",
    "## Why Do You Need a Semantic Model?  \n",
    "\n",
    "**Cortex Analyst** allows users to query **Snowflake** data using **natural language**. However, business users often use terminology that does not align with the database schema.  \n",
    "\n",
    "### The Problem  \n",
    "- Users specify **domain-specific business terms** in their questions  \n",
    "- Underlying data is stored using **technical abbreviations**  \n",
    "- Example:  \n",
    "  - **\"CUST\"** is used for **customers**  \n",
    "  - **Schema lacks semantic context**, making queries harder to interpret  \n",
    "\n",
    "### The Solution: Semantic Models  \n",
    "Semantic models **map business terminology to database schemas** and provide **contextual meaning**.  \n",
    "\n",
    "#### Example  \n",
    "When a user asks:  \n",
    "🗣️ *\"Total revenue last month\"*  \n",
    "\n",
    "The **semantic model** can:  \n",
    "✅ Define **\"revenue\"** as **net revenue**  \n",
    "✅ Define **\"last month\"** as **the previous calendar month**  \n",
    "\n",
    "This mapping helps **Cortex Analyst** understand **user intent** and generate **accurate answers**.  \n",
    "\n",
    "🔗 More details can be found in the [Semantic Model Specification](https://docs.snowflake.com/en/user-guide/snowflake-cortex/cortex-analyst/semantic-model-spec).  \n"
   ]
  }
 ]
}