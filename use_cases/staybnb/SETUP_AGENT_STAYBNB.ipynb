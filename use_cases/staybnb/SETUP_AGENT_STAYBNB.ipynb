{
 "metadata": {
  "kernelspec": {
   "display_name": "Streamlit Notebook",
   "name": "streamlit"
  },
  "lastEditStatus": {
   "notebookId": "no2ranzsavqqahvvkoiq",
   "authorId": "1779120828974",
   "authorName": "ADMIN",
   "authorEmail": "michael.gorkow@snowflake.com",
   "sessionId": "99bad0f1-d84d-4149-a138-a582ea2a31c5",
   "lastEditTime": 1746439988980
  }
 },
 "nbformat_minor": 5,
 "nbformat": 4,
 "cells": [
  {
   "cell_type": "code",
   "execution_count": null,
   "id": "3775908f-ca36-4846-8f38-5adca39217f2",
   "metadata": {
    "collapsed": false,
    "language": "python",
    "name": "IMPORTS"
   },
   "outputs": [],
   "source": [
    "import warnings\n",
    "warnings.filterwarnings(\"ignore\")\n",
    "import streamlit as st\n",
    "from snowflake.snowpark.context import get_active_session\n",
    "from snowflake.core import Root\n",
    "from snowflake.cortex import Complete\n",
    "session = get_active_session()\n",
    "root = Root(get_active_session())"
   ]
  },
  {
   "cell_type": "markdown",
   "id": "a66bee02-de2d-4c96-92dc-2a683e8be305",
   "metadata": {
    "collapsed": false,
    "name": "OVERVIEW"
   },
   "source": [
    "# Cortex Agents\n",
    "In this notebook you will setup multiple Cortex Search and Cortex Analyst Services which will be used by Cortex Agents to answer user queries on unstructured and structured data.\n",
    "![text](https://github.com/michaelgorkow/snowflake_cortex_agents_demo/blob/main/resources/cortex_agents_notebook_small.png?raw=true)"
   ]
  },
  {
   "cell_type": "markdown",
   "id": "a2cda5f3-3dc6-4609-bf2d-12d114adb9af",
   "metadata": {
    "collapsed": false,
    "name": "CORTEX_SEARCH1"
   },
   "source": [
    "# Setup the Cortex Search Service [Unstructured Data]\n",
    "\n",
    "We have property descriptions in our database for rental homes that users should be able to search in and ask questions."
   ]
  },
  {
   "cell_type": "code",
   "execution_count": null,
   "id": "5087f682-4abf-44c6-84a0-15a3e8efa174",
   "metadata": {
    "language": "sql",
    "name": "CORTEX_SEARCH2"
   },
   "outputs": [],
   "source": [
    "SELECT * FROM HOMES;"
   ]
  },
  {
   "cell_type": "code",
   "execution_count": null,
   "id": "f52de149-0b33-4350-831a-0ad57819c177",
   "metadata": {
    "language": "sql",
    "name": "CORTEX_SEARCH3"
   },
   "outputs": [],
   "source": [
    "-- Create a Cortex Search Service for rental home descriptions\n",
    "CREATE OR REPLACE CORTEX SEARCH SERVICE RENTAL_HOME_DESCRIPTIONS\n",
    "  ON RENTAL_HOME_DESCRIPTION\n",
    "  ATTRIBUTES RENTAL_HOME_ID\n",
    "  WAREHOUSE = COMPUTE_WH\n",
    "  TARGET_LAG = '1 hour'\n",
    "  EMBEDDING_MODEL = 'snowflake-arctic-embed-l-v2.0'\n",
    "AS (\n",
    "  SELECT\n",
    "      RENTAL_HOME_ID,\n",
    "      RENTAL_HOME_DESCRIPTION\n",
    "  FROM HOMES\n",
    ");"
   ]
  },
  {
   "cell_type": "markdown",
   "id": "f2205294-f44e-4e5e-b790-e55ad75496c9",
   "metadata": {
    "collapsed": false,
    "name": "CORTEX_SEARCH4"
   },
   "source": [
    "### [Optional] Test Your Service in a Simple RAG Pipeline  \n",
    "\n",
    "In this small example, we **combine Cortex Search with Cortex LLMs** to generate a response from context—also known as **Retrieval-Augmented Generation (RAG)**.  \n",
    "This approach enhances responses by retrieving relevant data before generating an answer, improving accuracy and contextual relevance. 🚀  "
   ]
  },
  {
   "cell_type": "code",
   "execution_count": null,
   "id": "f6bd5bf1-2d82-4c10-bc3a-e84fe8dd6cfb",
   "metadata": {
    "language": "python",
    "name": "CORTEX_SEARCH5"
   },
   "outputs": [],
   "source": [
    "question = 'I am looking for a place at the beach with a BBQ area. It should also be close to the airport.'\n",
    "\n",
    "# Fetch service\n",
    "my_service = (root\n",
    "  .databases[\"CORTEX_AGENTS_DEMO\"]\n",
    "  .schemas[\"STAYBNB\"]\n",
    "  .cortex_search_services[\"RENTAL_HOME_DESCRIPTIONS\"]\n",
    ")\n",
    "\n",
    "# Query service\n",
    "resp = my_service.search(\n",
    "  query=question,\n",
    "  columns=[\"RENTAL_HOME_ID\", \"RENTAL_HOME_DESCRIPTION\"],\n",
    "  limit=1\n",
    ")\n",
    "resp = resp.results[0]\n",
    "\n",
    "with st.expander(f'**Rental Home ID:** {resp[\"RENTAL_HOME_ID\"]}', expanded=False):\n",
    "    st.info(resp[\"RENTAL_HOME_DESCRIPTION\"])\n",
    "\n",
    "# Generate Response\n",
    "model = 'mistral-large2'\n",
    "prompt = f\"{question} Answer based on the provided context: {resp['RENTAL_HOME_DESCRIPTION']}\"\n",
    "response = Complete(model, prompt).strip()\n",
    "\n",
    "st.info(f'**LLM Response:**\\n\\n**{response}**')"
   ]
  },
  {
   "cell_type": "markdown",
   "id": "3bad9e9c-f113-496c-b613-a22305118d66",
   "metadata": {
    "collapsed": false,
    "name": "CORTEX_ANALYST1"
   },
   "source": [
    "# Setup the Cortex Analyst Service [Structured Data]   \n",
    "\n",
    "## Dataset Overview  \n",
    "\n",
    "The dataset consists of **two tables**:  \n",
    "\n",
    "- **`HOMES`**  \n",
    "  - Contains data about **property type** and **total square meters**.\n",
    "\n",
    "- **`BOOKINGS`**  \n",
    "  - Stores **booking details**, including:  \n",
    "    - `BOOKING_START_DATE`  \n",
    "    - `BOOKING_END_DATE`  \n",
    "    - `PRICE_PER_NIGHT`  \n",
    "    - `CLEANING_FEE`  \n",
    "\n",
    "In addition to that we have a stage with images for each rental home.\n",
    "In order to let users ask questions about available appliances, we'll turn these images into structured data\n",
    "- **`RENTAL_HOME_ROOMS_STRUCTURED`**  \n",
    "  - Stores **room types** and their **appliances**, such as:  \n",
    "\n",
    "This structured dataset will allow **Cortex Analyst** to process user queries efficiently and return meaningful results. 🚀  \n"
   ]
  },
  {
   "cell_type": "code",
   "execution_count": null,
   "id": "409fcc50-e66b-425d-9612-adbe8cc2631f",
   "metadata": {
    "language": "sql",
    "name": "CORTEX_ANALYST2"
   },
   "outputs": [],
   "source": [
    "SELECT * FROM HOMES LIMIT 3;"
   ]
  },
  {
   "cell_type": "code",
   "execution_count": null,
   "id": "19b93d17-81dd-4df4-8379-da545000b257",
   "metadata": {
    "language": "sql",
    "name": "CORTEX_ANALYST3"
   },
   "outputs": [],
   "source": [
    "SELECT * FROM BOOKINGS LIMIT 3;"
   ]
  },
  {
   "cell_type": "code",
   "execution_count": null,
   "id": "5a8b48fc-3724-47ea-941f-a0c29445f010",
   "metadata": {
    "language": "sql",
    "name": "CORTEX_ANALYST4"
   },
   "outputs": [],
   "source": "-- Extract room types and appliances from images via multimodal LLM\nCREATE OR REPLACE TABLE RENTAL_HOME_ROOMS AS (\n    SELECT \n        split(RELATIVE_PATH,'/')[0]::text AS RENTAL_HOME_ID,\n        PARSE_JSON(\n            SNOWFLAKE.CORTEX.COMPLETE(\n                'claude-3-5-sonnet',\n                'Extract the room type and appliances in the room. \n                 Respond in JSON format.\n                 Examples: \n                 {\n                    \"room\":\"kitchen\", \"appliances\":[\"refrigerator\",\"microwave\", \"oven\", \"coffee machine\", \"wine fridge\", \"dish washer\"], \n                 }\n                 {\n                    \"room\":\"living room\", \"appliances\":[\"tv\", \"game console\", \"couch\", \"speakers\"]\n                 }',\n                TO_FILE('@CORTEX_AGENTS_DEMO.STAYBNB.IMAGES', RELATIVE_PATH)\n            )\n        ) AS ROOM_APPLIANCES\n    FROM \n        DIRECTORY(@CORTEX_AGENTS_DEMO.STAYBNB.IMAGES)\n);\n\n-- Format the output\nCREATE OR REPLACE TABLE RENTAL_HOME_ROOMS_STRUCTURED AS (\n    SELECT \n        RENTAL_HOME_ID,\n        ROOM_APPLIANCES['room']::TEXT AS ROOM_TYPE,\n        APPLIANCE.VALUE::TEXT AS appliance\n    FROM \n        RENTAL_HOME_ROOMS,\n        LATERAL FLATTEN(input => ROOM_APPLIANCES['appliances']) AS appliance\n);\n\nSELECT * FROM RENTAL_HOME_ROOMS_STRUCTURED;"
  },
  {
   "cell_type": "code",
   "execution_count": null,
   "id": "d23f4ffa-7549-416f-8687-edfa4ae069fe",
   "metadata": {
    "language": "sql",
    "name": "CORTEX_ANALYST5"
   },
   "outputs": [],
   "source": [
    "CREATE OR REPLACE CORTEX SEARCH SERVICE _ANALYST_ROOM_TYPE_SEARCH\n",
    "  ON ROOM_TYPE\n",
    "  WAREHOUSE = COMPUTE_WH\n",
    "  TARGET_LAG = '1 hour'\n",
    "  EMBEDDING_MODEL = 'snowflake-arctic-embed-l-v2.0'\n",
    "AS (\n",
    "  SELECT\n",
    "      DISTINCT ROOM_TYPE\n",
    "  FROM RENTAL_HOME_ROOMS_STRUCTURED\n",
    ");"
   ]
  },
  {
   "cell_type": "code",
   "execution_count": null,
   "id": "c2ca08b5-414a-40a8-a17a-187515836e45",
   "metadata": {
    "language": "sql",
    "name": "CORTEX_ANALYST7"
   },
   "outputs": [],
   "source": [
    "CREATE OR REPLACE CORTEX SEARCH SERVICE _ANALYST_APPLIANCE_SEARCH\n",
    "  ON APPLIANCE\n",
    "  WAREHOUSE = COMPUTE_WH\n",
    "  TARGET_LAG = '1 hour'\n",
    "  EMBEDDING_MODEL = 'snowflake-arctic-embed-l-v2.0'\n",
    "AS (\n",
    "  SELECT\n",
    "      DISTINCT APPLIANCE\n",
    "  FROM RENTAL_HOME_ROOMS_STRUCTURED\n",
    ");"
   ]
  },
  {
   "cell_type": "markdown",
   "id": "6eb814df-fa76-45af-bfaf-add22a17c61f",
   "metadata": {
    "collapsed": false,
    "name": "CORTEX_ANALYST8"
   },
   "source": [
    "# Explore the Semantic Model in the Snowflake UI  \n",
    "\n",
    "With our data available in **Snowflake** and the **Search Services** set up, it's time to explore the **native Semantic Model Generator** in **Snowsight**.  \n",
    "![text](https://github.com/michaelgorkow/snowflake_cortex_agents_demo/blob/main/resources/semantic_model_ui.png?raw=true)\n",
    "\n",
    "## Why Do You Need a Semantic Model?  \n",
    "\n",
    "**Cortex Analyst** allows users to query **Snowflake** data using **natural language**. However, business users often use terminology that does not align with the database schema.  \n",
    "\n",
    "### The Problem  \n",
    "- Users specify **domain-specific business terms** in their questions  \n",
    "- Underlying data is stored using **technical abbreviations**  \n",
    "- Example:  \n",
    "  - **\"CUST\"** is used for **customers**  \n",
    "  - **Schema lacks semantic context**, making queries harder to interpret  \n",
    "\n",
    "### The Solution: Semantic Models  \n",
    "Semantic models **map business terminology to database schemas** and provide **contextual meaning**.  \n",
    "\n",
    "#### Example  \n",
    "When a user asks:  \n",
    "🗣️ *\"Total revenue last month\"*  \n",
    "\n",
    "The **semantic model** can:  \n",
    "✅ Define **\"revenue\"** as **net revenue**  \n",
    "✅ Define **\"last month\"** as **the previous calendar month**  \n",
    "\n",
    "This mapping helps **Cortex Analyst** understand **user intent** and generate **accurate answers**.  \n",
    "\n",
    "🔗 More details can be found in the [Semantic Model Specification](https://docs.snowflake.com/en/user-guide/snowflake-cortex/cortex-analyst/semantic-model-spec).  \n"
   ]
  }
 ]
}